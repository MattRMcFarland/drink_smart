{
 "cells": [
  {
   "cell_type": "code",
   "execution_count": 5,
   "metadata": {
    "collapsed": true
   },
   "outputs": [],
   "source": [
    "%load_ext autoreload\n",
    "%autoreload 2\n",
    "import sys\n",
    "reload(sys)\n",
    "sys.setdefaultencoding(\"utf-8\")\n",
    "sys.path.append(\"..\") # Adds higher directory to python modules path."
   ]
  },
  {
   "cell_type": "code",
   "execution_count": 7,
   "metadata": {
    "collapsed": false
   },
   "outputs": [
    {
     "ename": "IOError",
     "evalue": "File data/beer_reviews.csv does not exist",
     "output_type": "error",
     "traceback": [
      "\u001b[0;31m---------------------------------------------------------------------------\u001b[0m",
      "\u001b[0;31mIOError\u001b[0m                                   Traceback (most recent call last)",
      "\u001b[0;32m<ipython-input-7-307c5cafa188>\u001b[0m in \u001b[0;36m<module>\u001b[0;34m()\u001b[0m\n\u001b[1;32m      4\u001b[0m \u001b[0;32mimport\u001b[0m \u001b[0mmath\u001b[0m\u001b[0;34m\u001b[0m\u001b[0m\n\u001b[1;32m      5\u001b[0m \u001b[0;34m\u001b[0m\u001b[0m\n\u001b[0;32m----> 6\u001b[0;31m \u001b[0mfb\u001b[0m \u001b[0;34m=\u001b[0m \u001b[0mFeatureBuilder\u001b[0m\u001b[0;34m(\u001b[0m\u001b[0;34m)\u001b[0m\u001b[0;34m\u001b[0m\u001b[0m\n\u001b[0m\u001b[1;32m      7\u001b[0m \u001b[0;32mprint\u001b[0m\u001b[0;34m(\u001b[0m\u001b[0;34m\"---- Overall Dataset ----------\"\u001b[0m\u001b[0;34m)\u001b[0m\u001b[0;34m\u001b[0m\u001b[0m\n\u001b[1;32m      8\u001b[0m \u001b[0mfb\u001b[0m\u001b[0;34m.\u001b[0m\u001b[0mcalculate_summary_statistics\u001b[0m\u001b[0;34m(\u001b[0m\u001b[0;34m)\u001b[0m\u001b[0;34m\u001b[0m\u001b[0m\n",
      "\u001b[0;32m/Users/tedowens/Documents/Dartmouth Classes/16 Winter/Machine Learning/Final Project/drink_smart/item_cf/source/feature_builder.pyc\u001b[0m in \u001b[0;36m__init__\u001b[0;34m(self)\u001b[0m\n\u001b[1;32m     22\u001b[0m     \u001b[0;32mdef\u001b[0m \u001b[0m__init__\u001b[0m\u001b[0;34m(\u001b[0m\u001b[0mself\u001b[0m\u001b[0;34m)\u001b[0m\u001b[0;34m:\u001b[0m\u001b[0;34m\u001b[0m\u001b[0m\n\u001b[1;32m     23\u001b[0m         \u001b[0;32mprint\u001b[0m\u001b[0;34m(\u001b[0m\u001b[0;34m\"Reading in reviews...\"\u001b[0m\u001b[0;34m)\u001b[0m\u001b[0;34m\u001b[0m\u001b[0m\n\u001b[0;32m---> 24\u001b[0;31m         \u001b[0mself\u001b[0m\u001b[0;34m.\u001b[0m\u001b[0mreviews\u001b[0m \u001b[0;34m=\u001b[0m \u001b[0mpd\u001b[0m\u001b[0;34m.\u001b[0m\u001b[0mread_csv\u001b[0m\u001b[0;34m(\u001b[0m\u001b[0mINPUT_CSV\u001b[0m\u001b[0;34m)\u001b[0m\u001b[0;34m\u001b[0m\u001b[0m\n\u001b[0m\u001b[1;32m     25\u001b[0m         \u001b[0mself\u001b[0m\u001b[0;34m.\u001b[0m\u001b[0madd_brewery_names\u001b[0m\u001b[0;34m(\u001b[0m\u001b[0;34m)\u001b[0m\u001b[0;34m\u001b[0m\u001b[0m\n\u001b[1;32m     26\u001b[0m         \u001b[0mself\u001b[0m\u001b[0;34m.\u001b[0m\u001b[0mreload_beers_and_reviewers\u001b[0m\u001b[0;34m(\u001b[0m\u001b[0;34m)\u001b[0m\u001b[0;34m\u001b[0m\u001b[0m\n",
      "\u001b[0;32m/Users/tedowens/anaconda/lib/python2.7/site-packages/pandas/io/parsers.pyc\u001b[0m in \u001b[0;36mparser_f\u001b[0;34m(filepath_or_buffer, sep, dialect, compression, doublequote, escapechar, quotechar, quoting, skipinitialspace, lineterminator, header, index_col, names, prefix, skiprows, skipfooter, skip_footer, na_values, true_values, false_values, delimiter, converters, dtype, usecols, engine, delim_whitespace, as_recarray, na_filter, compact_ints, use_unsigned, low_memory, buffer_lines, warn_bad_lines, error_bad_lines, keep_default_na, thousands, comment, decimal, parse_dates, keep_date_col, dayfirst, date_parser, memory_map, float_precision, nrows, iterator, chunksize, verbose, encoding, squeeze, mangle_dupe_cols, tupleize_cols, infer_datetime_format, skip_blank_lines)\u001b[0m\n\u001b[1;32m    496\u001b[0m                     skip_blank_lines=skip_blank_lines)\n\u001b[1;32m    497\u001b[0m \u001b[0;34m\u001b[0m\u001b[0m\n\u001b[0;32m--> 498\u001b[0;31m         \u001b[0;32mreturn\u001b[0m \u001b[0m_read\u001b[0m\u001b[0;34m(\u001b[0m\u001b[0mfilepath_or_buffer\u001b[0m\u001b[0;34m,\u001b[0m \u001b[0mkwds\u001b[0m\u001b[0;34m)\u001b[0m\u001b[0;34m\u001b[0m\u001b[0m\n\u001b[0m\u001b[1;32m    499\u001b[0m \u001b[0;34m\u001b[0m\u001b[0m\n\u001b[1;32m    500\u001b[0m     \u001b[0mparser_f\u001b[0m\u001b[0;34m.\u001b[0m\u001b[0m__name__\u001b[0m \u001b[0;34m=\u001b[0m \u001b[0mname\u001b[0m\u001b[0;34m\u001b[0m\u001b[0m\n",
      "\u001b[0;32m/Users/tedowens/anaconda/lib/python2.7/site-packages/pandas/io/parsers.pyc\u001b[0m in \u001b[0;36m_read\u001b[0;34m(filepath_or_buffer, kwds)\u001b[0m\n\u001b[1;32m    273\u001b[0m \u001b[0;34m\u001b[0m\u001b[0m\n\u001b[1;32m    274\u001b[0m     \u001b[0;31m# Create the parser.\u001b[0m\u001b[0;34m\u001b[0m\u001b[0;34m\u001b[0m\u001b[0m\n\u001b[0;32m--> 275\u001b[0;31m     \u001b[0mparser\u001b[0m \u001b[0;34m=\u001b[0m \u001b[0mTextFileReader\u001b[0m\u001b[0;34m(\u001b[0m\u001b[0mfilepath_or_buffer\u001b[0m\u001b[0;34m,\u001b[0m \u001b[0;34m**\u001b[0m\u001b[0mkwds\u001b[0m\u001b[0;34m)\u001b[0m\u001b[0;34m\u001b[0m\u001b[0m\n\u001b[0m\u001b[1;32m    276\u001b[0m \u001b[0;34m\u001b[0m\u001b[0m\n\u001b[1;32m    277\u001b[0m     \u001b[0;32mif\u001b[0m \u001b[0;34m(\u001b[0m\u001b[0mnrows\u001b[0m \u001b[0;32mis\u001b[0m \u001b[0;32mnot\u001b[0m \u001b[0mNone\u001b[0m\u001b[0;34m)\u001b[0m \u001b[0;32mand\u001b[0m \u001b[0;34m(\u001b[0m\u001b[0mchunksize\u001b[0m \u001b[0;32mis\u001b[0m \u001b[0;32mnot\u001b[0m \u001b[0mNone\u001b[0m\u001b[0;34m)\u001b[0m\u001b[0;34m:\u001b[0m\u001b[0;34m\u001b[0m\u001b[0m\n",
      "\u001b[0;32m/Users/tedowens/anaconda/lib/python2.7/site-packages/pandas/io/parsers.pyc\u001b[0m in \u001b[0;36m__init__\u001b[0;34m(self, f, engine, **kwds)\u001b[0m\n\u001b[1;32m    588\u001b[0m             \u001b[0mself\u001b[0m\u001b[0;34m.\u001b[0m\u001b[0moptions\u001b[0m\u001b[0;34m[\u001b[0m\u001b[0;34m'has_index_names'\u001b[0m\u001b[0;34m]\u001b[0m \u001b[0;34m=\u001b[0m \u001b[0mkwds\u001b[0m\u001b[0;34m[\u001b[0m\u001b[0;34m'has_index_names'\u001b[0m\u001b[0;34m]\u001b[0m\u001b[0;34m\u001b[0m\u001b[0m\n\u001b[1;32m    589\u001b[0m \u001b[0;34m\u001b[0m\u001b[0m\n\u001b[0;32m--> 590\u001b[0;31m         \u001b[0mself\u001b[0m\u001b[0;34m.\u001b[0m\u001b[0m_make_engine\u001b[0m\u001b[0;34m(\u001b[0m\u001b[0mself\u001b[0m\u001b[0;34m.\u001b[0m\u001b[0mengine\u001b[0m\u001b[0;34m)\u001b[0m\u001b[0;34m\u001b[0m\u001b[0m\n\u001b[0m\u001b[1;32m    591\u001b[0m \u001b[0;34m\u001b[0m\u001b[0m\n\u001b[1;32m    592\u001b[0m     \u001b[0;32mdef\u001b[0m \u001b[0m_get_options_with_defaults\u001b[0m\u001b[0;34m(\u001b[0m\u001b[0mself\u001b[0m\u001b[0;34m,\u001b[0m \u001b[0mengine\u001b[0m\u001b[0;34m)\u001b[0m\u001b[0;34m:\u001b[0m\u001b[0;34m\u001b[0m\u001b[0m\n",
      "\u001b[0;32m/Users/tedowens/anaconda/lib/python2.7/site-packages/pandas/io/parsers.pyc\u001b[0m in \u001b[0;36m_make_engine\u001b[0;34m(self, engine)\u001b[0m\n\u001b[1;32m    729\u001b[0m     \u001b[0;32mdef\u001b[0m \u001b[0m_make_engine\u001b[0m\u001b[0;34m(\u001b[0m\u001b[0mself\u001b[0m\u001b[0;34m,\u001b[0m \u001b[0mengine\u001b[0m\u001b[0;34m=\u001b[0m\u001b[0;34m'c'\u001b[0m\u001b[0;34m)\u001b[0m\u001b[0;34m:\u001b[0m\u001b[0;34m\u001b[0m\u001b[0m\n\u001b[1;32m    730\u001b[0m         \u001b[0;32mif\u001b[0m \u001b[0mengine\u001b[0m \u001b[0;34m==\u001b[0m \u001b[0;34m'c'\u001b[0m\u001b[0;34m:\u001b[0m\u001b[0;34m\u001b[0m\u001b[0m\n\u001b[0;32m--> 731\u001b[0;31m             \u001b[0mself\u001b[0m\u001b[0;34m.\u001b[0m\u001b[0m_engine\u001b[0m \u001b[0;34m=\u001b[0m \u001b[0mCParserWrapper\u001b[0m\u001b[0;34m(\u001b[0m\u001b[0mself\u001b[0m\u001b[0;34m.\u001b[0m\u001b[0mf\u001b[0m\u001b[0;34m,\u001b[0m \u001b[0;34m**\u001b[0m\u001b[0mself\u001b[0m\u001b[0;34m.\u001b[0m\u001b[0moptions\u001b[0m\u001b[0;34m)\u001b[0m\u001b[0;34m\u001b[0m\u001b[0m\n\u001b[0m\u001b[1;32m    732\u001b[0m         \u001b[0;32melse\u001b[0m\u001b[0;34m:\u001b[0m\u001b[0;34m\u001b[0m\u001b[0m\n\u001b[1;32m    733\u001b[0m             \u001b[0;32mif\u001b[0m \u001b[0mengine\u001b[0m \u001b[0;34m==\u001b[0m \u001b[0;34m'python'\u001b[0m\u001b[0;34m:\u001b[0m\u001b[0;34m\u001b[0m\u001b[0m\n",
      "\u001b[0;32m/Users/tedowens/anaconda/lib/python2.7/site-packages/pandas/io/parsers.pyc\u001b[0m in \u001b[0;36m__init__\u001b[0;34m(self, src, **kwds)\u001b[0m\n\u001b[1;32m   1101\u001b[0m         \u001b[0mkwds\u001b[0m\u001b[0;34m[\u001b[0m\u001b[0;34m'allow_leading_cols'\u001b[0m\u001b[0;34m]\u001b[0m \u001b[0;34m=\u001b[0m \u001b[0mself\u001b[0m\u001b[0;34m.\u001b[0m\u001b[0mindex_col\u001b[0m \u001b[0;32mis\u001b[0m \u001b[0;32mnot\u001b[0m \u001b[0mFalse\u001b[0m\u001b[0;34m\u001b[0m\u001b[0m\n\u001b[1;32m   1102\u001b[0m \u001b[0;34m\u001b[0m\u001b[0m\n\u001b[0;32m-> 1103\u001b[0;31m         \u001b[0mself\u001b[0m\u001b[0;34m.\u001b[0m\u001b[0m_reader\u001b[0m \u001b[0;34m=\u001b[0m \u001b[0m_parser\u001b[0m\u001b[0;34m.\u001b[0m\u001b[0mTextReader\u001b[0m\u001b[0;34m(\u001b[0m\u001b[0msrc\u001b[0m\u001b[0;34m,\u001b[0m \u001b[0;34m**\u001b[0m\u001b[0mkwds\u001b[0m\u001b[0;34m)\u001b[0m\u001b[0;34m\u001b[0m\u001b[0m\n\u001b[0m\u001b[1;32m   1104\u001b[0m \u001b[0;34m\u001b[0m\u001b[0m\n\u001b[1;32m   1105\u001b[0m         \u001b[0;31m# XXX\u001b[0m\u001b[0;34m\u001b[0m\u001b[0;34m\u001b[0m\u001b[0m\n",
      "\u001b[0;32mpandas/parser.pyx\u001b[0m in \u001b[0;36mpandas.parser.TextReader.__cinit__ (pandas/parser.c:3246)\u001b[0;34m()\u001b[0m\n",
      "\u001b[0;32mpandas/parser.pyx\u001b[0m in \u001b[0;36mpandas.parser.TextReader._setup_parser_source (pandas/parser.c:6111)\u001b[0;34m()\u001b[0m\n",
      "\u001b[0;31mIOError\u001b[0m: File data/beer_reviews.csv does not exist"
     ]
    }
   ],
   "source": [
    "from feature_builder import FeatureBuilder\n",
    "import pandas as pd\n",
    "import numpy as np\n",
    "import math\n",
    "\n",
    "fb = FeatureBuilder()\n",
    "print(\"---- Overall Dataset ----------\")\n",
    "fb.calculate_summary_statistics()\n",
    "fb.filter_on_beer_reviewer_counts(1000, 100)\n",
    "print(\"---- Filtered Datset --------- \")\n",
    "fb.calculate_summary_statistics()\n",
    "print(\"Normalizing all reviews...\")\n",
    "fb.normalize_all_reviews()\n",
    "print(\"Similarity matrix written\")"
   ]
  },
  {
   "cell_type": "code",
   "execution_count": null,
   "metadata": {
    "collapsed": false
   },
   "outputs": [],
   "source": [
    "# pd.DataFrame().reindex_like(df_original)\n",
    "# pd.DataFrame(np.random.uniform(0, 1, size=(ds.reviewer_count, ds.beer_count)))"
   ]
  },
  {
   "cell_type": "code",
   "execution_count": 50,
   "metadata": {
    "collapsed": false
   },
   "outputs": [],
   "source": [
    "predict = ds.train_and_predict(train_percentage=0.9, split_on_reviews=True)"
   ]
  },
  {
   "cell_type": "code",
   "execution_count": 51,
   "metadata": {
    "collapsed": false
   },
   "outputs": [
    {
     "data": {
      "text/plain": [
       "0.38542555158550129"
      ]
     },
     "execution_count": 51,
     "metadata": {},
     "output_type": "execute_result"
    }
   ],
   "source": [
    "predict"
   ]
  },
  {
   "cell_type": "code",
   "execution_count": null,
   "metadata": {
    "collapsed": false
   },
   "outputs": [],
   "source": [
    "train"
   ]
  },
  {
   "cell_type": "code",
   "execution_count": 36,
   "metadata": {
    "collapsed": false
   },
   "outputs": [
    {
     "data": {
      "text/plain": [
       "5"
      ]
     },
     "execution_count": 36,
     "metadata": {},
     "output_type": "execute_result"
    }
   ],
   "source": [
    "my_list = []\n",
    "my_list.append(3)\n",
    "my_list\n",
    "abs(-5)"
   ]
  },
  {
   "cell_type": "code",
   "execution_count": 6,
   "metadata": {
    "collapsed": false
   },
   "outputs": [],
   "source": [
    "test, train = ds.get_train_test_features(train_percentage=0.8, split_on_reviews=True)"
   ]
  },
  {
   "cell_type": "code",
   "execution_count": 16,
   "metadata": {
    "collapsed": false
   },
   "outputs": [
    {
     "data": {
      "text/plain": [
       "beer_name\n",
       "Abbaye de Leffe S.A. - Leffe Blonde                                                     NaN\n",
       "AleSmith Brewing Company - AleSmith Speedway Stout                                        4\n",
       "Allagash Brewing Company - Allagash White                                               NaN\n",
       "Anchor Brewing Company - Anchor Liberty Ale                                             NaN\n",
       "Anchor Brewing Company - Anchor Porter                                                  NaN\n",
       "Anchor Brewing Company - Anchor Steam Beer                                              NaN\n",
       "Anderson Valley Brewing Company - Hop Ottin' IPA                                        NaN\n",
       "Anheuser-Busch - Bud Light                                                              NaN\n",
       "Anheuser-Busch - Budweiser                                                              NaN\n",
       "Avery Brewing Company - India Pale Ale (IPA)                                            NaN\n",
       "Avery Brewing Company - Maharaja                                                        NaN\n",
       "Ballast Point Brewing Company - Sculpin India Pale Ale                                  NaN\n",
       "Bass Brewers Limited - Bass Pale Ale                                                    NaN\n",
       "Bayerische Staatsbrauerei Weihenstephan - Weihenstephaner Hefeweissbier                 NaN\n",
       "Bear Republic Brewing Co. - Big Bear Black Stout                                        NaN\n",
       "Bear Republic Brewing Co. - Hop Rod Rye                                                 NaN\n",
       "Bear Republic Brewing Co. - Racer 5 India Pale Ale                                      NaN\n",
       "Bear Republic Brewing Co. - Red Rocket Ale                                              NaN\n",
       "Bell's Brewery Inc. - Bell's Expedition Stout                                           NaN\n",
       "Bell's Brewery Inc. - Bell's Hopslam Ale                                                NaN\n",
       "Bell's Brewery Inc. - Bell's Kalamazoo Stout                                            NaN\n",
       "Bell's Brewery Inc. - Bell's Oberon Ale                                                 NaN\n",
       "Bell's Brewery Inc. - Bell's Special Double Cream Stout                                 NaN\n",
       "Bell's Brewery Inc. - Two Hearted Ale                                                   NaN\n",
       "Bières de Chimay S.A. - Chimay Grande Réserve (Blue)                                    NaN\n",
       "Bières de Chimay S.A. - Chimay Première (Red)                                           NaN\n",
       "Bières de Chimay S.A. - Chimay Tripel (White)                                           NaN\n",
       "Boddingtons - Boddingtons Pub Ale                                                       NaN\n",
       "Boston Beer Company (Samuel Adams) - Samuel Adams Black Lager                           NaN\n",
       "Boston Beer Company (Samuel Adams) - Samuel Adams Boston Ale (Stock Ale)                NaN\n",
       "Boston Beer Company (Samuel Adams) - Samuel Adams Boston Lager                          NaN\n",
       "Boston Beer Company (Samuel Adams) - Samuel Adams Cherry Wheat                          NaN\n",
       "Boston Beer Company (Samuel Adams) - Samuel Adams Chocolate Bock                        NaN\n",
       "Boston Beer Company (Samuel Adams) - Samuel Adams Cream Stout                           NaN\n",
       "Boston Beer Company (Samuel Adams) - Samuel Adams Double Bock (Imperial Series)         NaN\n",
       "Boston Beer Company (Samuel Adams) - Samuel Adams Holiday Porter                        NaN\n",
       "Boston Beer Company (Samuel Adams) - Samuel Adams Noble Pils                            NaN\n",
       "Boston Beer Company (Samuel Adams) - Samuel Adams Octoberfest                           NaN\n",
       "Boston Beer Company (Samuel Adams) - Samuel Adams Old Fezziwig Ale                      NaN\n",
       "Boston Beer Company (Samuel Adams) - Samuel Adams Summer Ale                            NaN\n",
       "Boston Beer Company (Samuel Adams) - Samuel Adams White Ale                             NaN\n",
       "Boston Beer Company (Samuel Adams) - Samuel Adams Winter Lager                          NaN\n",
       "Brasserie Dieu Du Ciel - Péché Mortel (Imperial Stout Au Cafe)                          NaN\n",
       "Brasserie Dupont sprl - Saison Dupont                                                   NaN\n",
       "Brasserie d'Achouffe - Houblon Chouffe Dobbelen IPA Tripel                              NaN\n",
       "Brasserie d'Orval S.A. - Orval Trappist Ale                                             NaN\n",
       "Brasserie de Rochefort - Trappistes Rochefort 10                                        NaN\n",
       "Brasserie de Rochefort - Trappistes Rochefort 8                                         NaN\n",
       "Brewery Ommegang - Hennepin (Farmhouse Saison)                                          NaN\n",
       "Brewery Ommegang - Ommegang (Abbey Ale)                                                 NaN\n",
       "Brewery Ommegang - Three Philosophers Belgian Style Blend (Quadrupel)                   NaN\n",
       "Brooklyn Brewery - Brooklyn Black Chocolate Stout                                       NaN\n",
       "Brooklyn Brewery - Brooklyn Lager                                                       NaN\n",
       "Brouwerij Bosteels - Tripel Karmeliet                                                   NaN\n",
       "Brouwerij Duvel Moortgat NV - Duvel                                                     NaN\n",
       "Brouwerij Huyghe - Delirium Tremens                                                     NaN\n",
       "Brouwerij St. Bernardus NV - St. Bernardus Abt 12                                       NaN\n",
       "Brouwerij St. Bernardus NV - St. Bernardus Tripel                                       NaN\n",
       "Brouwerij Van Steenberge N.V. - Gulden Draak (Dark Triple)                              NaN\n",
       "Brouwerij Verhaeghe - Duchesse De Bourgogne                                             NaN\n",
       "Brouwerij Westmalle - Westmalle Trappist Dubbel                                         NaN\n",
       "Brouwerij Westmalle - Westmalle Trappist Tripel                                         NaN\n",
       "Brouwerij Westvleteren (Sint-Sixtusabdij van Westvleteren) - Trappist Westvleteren 12   NaN\n",
       "Brouwerij van Hoegaarden - Hoegaarden Original White Ale                                NaN\n",
       "Coors Brewing Company - Blue Moon Belgian White                                         NaN\n",
       "Coors Brewing Company - Coors Light                                                     NaN\n",
       "Deschutes Brewery - Black Butte Porter                                                  NaN\n",
       "Deschutes Brewery - The Abyss                                                           NaN\n",
       "Dogfish Head Brewery - 120 Minute IPA                                                   NaN\n",
       "Dogfish Head Brewery - 60 Minute IPA                                                    NaN\n",
       "Dogfish Head Brewery - 90 Minute IPA                                                      4\n",
       "Dogfish Head Brewery - ApriHop                                                          NaN\n",
       "Dogfish Head Brewery - Burton Baton                                                     NaN\n",
       "Dogfish Head Brewery - Chicory Stout                                                    NaN\n",
       "Dogfish Head Brewery - Festina Pêche                                                    NaN\n",
       "Dogfish Head Brewery - Immort Ale                                                       NaN\n",
       "Dogfish Head Brewery - Indian Brown Ale                                                 NaN\n",
       "Dogfish Head Brewery - Midas Touch Golden Elixir                                        NaN\n",
       "Dogfish Head Brewery - Palo Santo Marron                                                NaN\n",
       "Dogfish Head Brewery - Punkin Ale                                                       NaN\n",
       "Dogfish Head Brewery - Raison D'etre                                                    NaN\n",
       "Dogfish Head Brewery - World Wide Stout                                                   4\n",
       "Flying Dog Brewery - Gonzo Imperial Porter                                              NaN\n",
       "Flying Dog Brewery - Snake Dog IPA                                                      NaN\n",
       "Founders Brewing Company - Founders Backwoods Bastard                                   NaN\n",
       "Founders Brewing Company - Founders Breakfast Stout                                     NaN\n",
       "Founders Brewing Company - Founders Centennial IPA                                      NaN\n",
       "Founders Brewing Company - Founders Devil Dancer                                        NaN\n",
       "Founders Brewing Company - Founders Dirty Bastard                                       NaN\n",
       "Founders Brewing Company - Founders Double Trouble                                      NaN\n",
       "Founders Brewing Company - Founders Imperial Stout                                        4\n",
       "Founders Brewing Company - Founders KBS (Kentucky Breakfast Stout)                      NaN\n",
       "Founders Brewing Company - Founders Red's Rye PA                                        NaN\n",
       "Fuller Smith & Turner PLC - Fuller's ESB                                                NaN\n",
       "Fuller Smith & Turner PLC - Fuller's London Porter                                      NaN\n",
       "Goose Island Beer Co. - Bourbon County Brand Stout                                      NaN\n",
       "Great Divide Brewing Company - Hercules Double IPA                                      NaN\n",
       "Great Divide Brewing Company - Oak Aged Yeti Imperial Stout                             NaN\n",
       "Great Divide Brewing Company - Titan IPA                                                NaN\n",
       "Great Divide Brewing Company - Yeti Imperial Stout                                      NaN\n",
       "Great Lakes Brewing Company - Great Lakes Edmund Fitzgerald Porter                      NaN\n",
       "Green Flash Brewing Co. - Green Flash West Coast I.P.A.                                 NaN\n",
       "Grupo Modelo S.A. de C.V. - Corona Extra                                                NaN\n",
       "Guinness Ltd. - Guinness Draught                                                        NaN\n",
       "Guinness Ltd. - Guinness Extra Stout (Original)                                         NaN\n",
       "Harpoon Brewery - Harpoon IPA                                                           NaN\n",
       "Heavy Seas Beer - Heavy Seas - Loose Cannon (Hop3 Ale)                                  NaN\n",
       "Heineken Nederland B.V. - Heineken Lager Beer                                           NaN\n",
       "Lagunitas Brewing Company - Brown Shugga'                                               NaN\n",
       "Lagunitas Brewing Company - Hop Stoopid                                                 NaN\n",
       "Lagunitas Brewing Company - Lagunitas IPA                                               NaN\n",
       "Lagunitas Brewing Company - Maximus                                                     NaN\n",
       "Left Hand Brewing Company - Left Hand Milk Stout                                        NaN\n",
       "Magic Hat Brewing Company - #9                                                          NaN\n",
       "Miller Brewing Co. - Miller High Life                                                   NaN\n",
       "Miller Brewing Co. - Miller Lite                                                        NaN\n",
       "New Belgium Brewing - 1554 Enlightened Black Ale                                        NaN\n",
       "New Belgium Brewing - Fat Tire Amber Ale                                                NaN\n",
       "North Coast Brewing Co. - Old Rasputin Russian Imperial Stout                           NaN\n",
       "North Coast Brewing Co. - Old Stock Ale                                                 NaN\n",
       "North Coast Brewing Co. - Pranqster                                                     NaN\n",
       "Oskar Blues Grill & Brew - Dale's Pale Ale                                              NaN\n",
       "Oskar Blues Grill & Brew - G'Knight Imperial Red Ale                                    NaN\n",
       "Oskar Blues Grill & Brew - Old Chub - Scottish Style Ale                                NaN\n",
       "Oskar Blues Grill & Brew - Ten FIDY                                                     NaN\n",
       "Pabst Brewing Company - Pabst Blue Ribbon (PBR)                                         NaN\n",
       "Paulaner Brauerei GmbH & Co. KG - Paulaner Hefe-Weissbier Naturtrüb                     NaN\n",
       "Paulaner Brauerei GmbH & Co. KG - Paulaner Oktoberfest-Märzen                           NaN\n",
       "Paulaner Brauerei GmbH & Co. KG - Salvator Doppel Bock                                  NaN\n",
       "Plzensky Prazdroj a. s. - Pilsner Urquell                                               NaN\n",
       "Privatbrauerei Franz Inselkammer KG / Brauerei Aying - Ayinger Celebrator Doppelbock    NaN\n",
       "Redhook Ale Brewery - Long Hammer IPA                                                   NaN\n",
       "Rogue Ales - Brutal Bitter Ale                                                          NaN\n",
       "Rogue Ales - Chocolate Stout                                                            NaN\n",
       "Rogue Ales - Dead Guy Ale                                                               NaN\n",
       "Rogue Ales - Hazelnut Brown Nectar                                                      NaN\n",
       "Rogue Ales - Mocha Porter                                                               NaN\n",
       "Rogue Ales - Santa's Private Reserve Ale                                                NaN\n",
       "Rogue Ales - Shakespeare Oatmeal Stout                                                  NaN\n",
       "Russian River Brewing Company - Blind Pig IPA                                           NaN\n",
       "Russian River Brewing Company - Pliny The Elder                                           5\n",
       "Russian River Brewing Company - Supplication                                            NaN\n",
       "Samuel Smith Old Brewery (Tadcaster) - Samuel Smith's Imperial Stout                    NaN\n",
       "Samuel Smith Old Brewery (Tadcaster) - Samuel Smith's Nut Brown Ale                     NaN\n",
       "Samuel Smith Old Brewery (Tadcaster) - Samuel Smith's Oatmeal Stout                     NaN\n",
       "Samuel Smith Old Brewery (Tadcaster) - Samuel Smith's The Famous Taddy Porter           NaN\n",
       "Samuel Smith Old Brewery (Tadcaster) - Samuel Smith's Winter Welcome Ale                NaN\n",
       "Sierra Nevada Brewing Co. - Northern Hemisphere Harvest Wet Hop Ale                     NaN\n",
       "Sierra Nevada Brewing Co. - Sierra Nevada Anniversary Ale (2007-2009)                   NaN\n",
       "Sierra Nevada Brewing Co. - Sierra Nevada Bigfoot Barleywine Style Ale                    4\n",
       "Sierra Nevada Brewing Co. - Sierra Nevada Celebration Ale                               NaN\n",
       "Sierra Nevada Brewing Co. - Sierra Nevada Kellerweis Hefeweizen                         NaN\n",
       "Sierra Nevada Brewing Co. - Sierra Nevada Pale Ale                                      NaN\n",
       "Sierra Nevada Brewing Co. - Sierra Nevada Porter                                        NaN\n",
       "Sierra Nevada Brewing Co. - Sierra Nevada Southern Hemisphere Harvest Fresh Hop Ale     NaN\n",
       "Sierra Nevada Brewing Co. - Sierra Nevada Stout                                         NaN\n",
       "Sierra Nevada Brewing Co. - Sierra Nevada Summerfest Lager                              NaN\n",
       "Sierra Nevada Brewing Co. - Sierra Nevada Torpedo Extra IPA                             NaN\n",
       "Smuttynose Brewing Company - Smuttynose IPA \"Finest Kind\"                               NaN\n",
       "Southern Tier Brewing Company - Choklat                                                 NaN\n",
       "Southern Tier Brewing Company - Creme Brulee (Imperial Milk Stout)                      NaN\n",
       "Southern Tier Brewing Company - Pumking                                                 NaN\n",
       "Southern Tier Brewing Company - Unearthly (Imperial India Pale Ale)                     NaN\n",
       "Spaten-Franziskaner-Bräu - Franziskaner Hefe-Weisse                                     NaN\n",
       "Spaten-Franziskaner-Bräu - Spaten Oktoberfestbier Ur-Märzen                             NaN\n",
       "Spaten-Franziskaner-Bräu - Spaten Optimator                                             NaN\n",
       "Stella Artois - Stella Artois                                                           NaN\n",
       "Stone Brewing Co. - Arrogant Bastard Ale                                                NaN\n",
       "Stone Brewing Co. - Double Bastard Ale                                                  NaN\n",
       "Stone Brewing Co. - Oaked Arrogant Bastard Ale                                          NaN\n",
       "Stone Brewing Co. - Stone IPA (India Pale Ale)                                          NaN\n",
       "Stone Brewing Co. - Stone Imperial Russian Stout                                        NaN\n",
       "Stone Brewing Co. - Stone Levitation Ale                                                NaN\n",
       "Stone Brewing Co. - Stone Ruination IPA                                                 NaN\n",
       "Stone Brewing Co. - Stone Smoked Porter                                                 NaN\n",
       "Stone Brewing Co. - Stone Sublimely Self-Righteous Ale                                  NaN\n",
       "Surly Brewing Company - Furious                                                         NaN\n",
       "The Caledonian Brewery Company Limited - Newcastle Brown Ale                            NaN\n",
       "Three Floyds Brewing Co. & Brewpub - Alpha King Pale Ale                                NaN\n",
       "Three Floyds Brewing Co. & Brewpub - Dark Lord Imperial Stout                           NaN\n",
       "Three Floyds Brewing Co. & Brewpub - Dreadnaught IPA                                    NaN\n",
       "Three Floyds Brewing Co. & Brewpub - Gumballhead                                        NaN\n",
       "Tröegs Brewing Company - Tröegs Hopback Amber Ale                                       NaN\n",
       "Tröegs Brewing Company - Tröegs Mad Elf                                                 NaN\n",
       "Tröegs Brewing Company - Tröegs Nugget Nectar                                           NaN\n",
       "Unibroue - Don de Dieu                                                                  NaN\n",
       "Unibroue - La Fin Du Monde                                                              NaN\n",
       "Unibroue - Maudite                                                                      NaN\n",
       "Unibroue - Trois Pistoles                                                               NaN\n",
       "Victory Brewing Company - Golden Monkey                                                 NaN\n",
       "Victory Brewing Company - Hop Wallop                                                    NaN\n",
       "Victory Brewing Company - HopDevil Ale                                                  NaN\n",
       "Victory Brewing Company - Old Horizontal                                                NaN\n",
       "Victory Brewing Company - Prima Pils                                                    NaN\n",
       "Victory Brewing Company - Storm King Stout                                              NaN\n",
       "Weisses Bräuhaus G. Schneider & Sohn GmbH - Schneider Aventinus                         NaN\n",
       "Wells & Young's Ltd - Young's Double Chocolate Stout                                    NaN\n",
       "Weyerbacher Brewing Co. - Double Simcoe IPA                                             NaN\n",
       "Yuengling Brewery  - Yuengling Traditional Lager                                        NaN\n",
       "Name: 05Harley, dtype: float64"
      ]
     },
     "execution_count": 16,
     "metadata": {},
     "output_type": "execute_result"
    }
   ],
   "source": [
    "train.iloc[1]"
   ]
  },
  {
   "cell_type": "code",
   "execution_count": null,
   "metadata": {
    "collapsed": true
   },
   "outputs": [],
   "source": []
  }
 ],
 "metadata": {
  "kernelspec": {
   "display_name": "Python 2",
   "language": "python",
   "name": "python2"
  },
  "language_info": {
   "codemirror_mode": {
    "name": "ipython",
    "version": 2
   },
   "file_extension": ".py",
   "mimetype": "text/x-python",
   "name": "python",
   "nbconvert_exporter": "python",
   "pygments_lexer": "ipython2",
   "version": "2.7.11"
  }
 },
 "nbformat": 4,
 "nbformat_minor": 0
}
