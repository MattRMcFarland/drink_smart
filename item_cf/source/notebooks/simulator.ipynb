{
 "cells": [
  {
   "cell_type": "code",
   "execution_count": 23,
   "metadata": {
    "collapsed": false
   },
   "outputs": [
    {
     "name": "stdout",
     "output_type": "stream",
     "text": [
      "The autoreload extension is already loaded. To reload it, use:\n",
      "  %reload_ext autoreload\n"
     ]
    }
   ],
   "source": [
    "import matplotlib\n",
    "matplotlib.use('Qt4Agg')\n",
    "import matplotlib.pyplot as plt\n",
    "import numpy as np\n",
    "from data_explore import DrinkSmart\n",
    "\n",
    "\n",
    "# ds = DrinkSmart()\n",
    "# print(\"---- Overall Dataset ----------\")\n",
    "# ds.calculate_summary_statistics()\n",
    "# ds.filter_on_beer_reviewer_counts(1000, 100)\n",
    "# print(\"---- Filtered Datset --------- \")\n",
    "# ds.calculate_summary_statistics()\n",
    "# # print(\"Normalizing all reviews...\")\n",
    "# # ds.normalize_all_reviews()\n",
    "# print(\"Similarity matrix written\")\n",
    "\n",
    "\n",
    "%load_ext autoreload\n",
    "%autoreload 2\n",
    "%matplotlib inline\n",
    "\n",
    "# sim_thresholds\n",
    "\n",
    "# mses\n",
    "\n",
    "# plt.plot(sim_thresholds, mses)\n",
    "\n",
    "# name = \"ted\"\n",
    "# value = \"owens\"\n",
    "# d = {\n",
    "#     name: value\n",
    "# }\n",
    "from simulator import Simulator\n",
    "\n",
    "\n"
   ]
  },
  {
   "cell_type": "code",
   "execution_count": 24,
   "metadata": {
    "collapsed": false
   },
   "outputs": [
    {
     "name": "stdout",
     "output_type": "stream",
     "text": [
      "Reading in reviews...\n"
     ]
    }
   ],
   "source": [
    "sim = Simulator()"
   ]
  },
  {
   "cell_type": "code",
   "execution_count": null,
   "metadata": {
    "collapsed": false
   },
   "outputs": [
    {
     "name": "stdout",
     "output_type": "stream",
     "text": [
      "---- Overall Dataset ----------\n",
      "Number of reviews:\t1586599\n",
      "Number of beers:\t65680\n",
      "Number of reviewers:\t33388\n",
      "---- Filtered Datset --------- \n",
      "Number of reviews:\t211930\n",
      "Number of beers:\t288\n",
      "Number of reviewers:\t1863\n",
      "Similarity matrix written\n"
     ]
    }
   ],
   "source": [
    "sim.load()"
   ]
  },
  {
   "cell_type": "code",
   "execution_count": null,
   "metadata": {
    "collapsed": false
   },
   "outputs": [],
   "source": [
    "results = sim.simulate_similarity_threshold()"
   ]
  },
  {
   "cell_type": "code",
   "execution_count": null,
   "metadata": {
    "collapsed": true
   },
   "outputs": [],
   "source": []
  }
 ],
 "metadata": {
  "kernelspec": {
   "display_name": "Python 2",
   "language": "python",
   "name": "python2"
  },
  "language_info": {
   "codemirror_mode": {
    "name": "ipython",
    "version": 2
   },
   "file_extension": ".py",
   "mimetype": "text/x-python",
   "name": "python",
   "nbconvert_exporter": "python",
   "pygments_lexer": "ipython2",
   "version": "2.7.11"
  }
 },
 "nbformat": 4,
 "nbformat_minor": 0
}
